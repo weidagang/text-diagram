{
 "cells": [
  {
   "cell_type": "code",
   "execution_count": 1,
   "metadata": {
    "collapsed": false
   },
   "outputs": [
    {
     "name": "stdout",
     "output_type": "stream",
     "text": [
      "[[ 3.5]\n",
      " [ 1.4]]\n"
     ]
    },
    {
     "data": {
      "image/png": "[encoded data removed]",
      "text/plain": [
       "<matplotlib.figure.Figure at 0x7fbe23c27b10>"
      ]
     },
     "metadata": {},
     "output_type": "display_data"
    }
   ],
   "source": [
    "import numpy as np\n",
    "import matplotlib.pyplot as plt\n",
    "\n",
    "m = 4\n",
    "input = np.array([\n",
    "    [1, 6],\n",
    "    [2, 5],\n",
    "    [3, 7],\n",
    "    [4, 10]\n",
    "])\n",
    "X = np.matrix([np.ones(m), input[:,0]]).T\n",
    "y = np.matrix(input[:,1]).T\n",
    "betaHat = (X.T * X).I * X.T * y\n",
    "\n",
    "print(betaHat)\n",
    "\n",
    "plt.figure(1)\n",
    "xx = np.linspace(0, 5, 2)\n",
    "yy = np.array(betaHat[0] + betaHat[1] * xx)\n",
    "plt.plot(xx, yy.T, color='b')\n",
    "\n",
    "plt.scatter(input[:,0], input[:,1], color='r')\n",
    "plt.show()"
   ]
  },
  {
   "cell_type": "code",
   "execution_count": 5,
   "metadata": {
    "collapsed": false
   },
   "outputs": [
    {
     "data": {
      "text/plain": [
       "'array([ 0.,  5.])'"
      ]
     },
     "execution_count": 5,
     "metadata": {},
     "output_type": "execute_result"
    }
   ],
   "source": [
    "xx = np.linspace(0, 5, 2)\n",
    "repr(xx)"
   ]
  },
  {
   "cell_type": "code",
   "execution_count": 6,
   "metadata": {
    "collapsed": false
   },
   "outputs": [
    {
     "data": {
      "text/plain": [
       "'array([[  3.5,  10.5]])'"
      ]
     },
     "execution_count": 6,
     "metadata": {},
     "output_type": "execute_result"
    }
   ],
   "source": [
    "yy = np.array(betaHat[0] + betaHat[1] * xx)\n",
    "repr(yy)"
   ]
  },
  {
   "cell_type": "code",
   "execution_count": null,
   "metadata": {
    "collapsed": true
   },
   "outputs": [],
   "source": []
  }
 ],
 "metadata": {
  "kernelspec": {
   "display_name": "Python 2",
   "language": "python",
   "name": "python2"
  },
  "language_info": {
   "codemirror_mode": {
    "name": "ipython",
    "version": 2
   },
   "file_extension": ".py",
   "mimetype": "text/x-python",
   "name": "python",
   "nbconvert_exporter": "python",
   "pygments_lexer": "ipython2",
   "version": "2.7.9"
  }
 },
 "nbformat": 4,
 "nbformat_minor": 0
}
